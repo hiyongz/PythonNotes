{
 "cells": [
  {
   "cell_type": "markdown",
   "metadata": {},
   "source": [
    "## python 导入和保存*.mat数据"
   ]
  },
  {
   "cell_type": "markdown",
   "metadata": {},
   "source": [
    "### 1、scipy.io"
   ]
  },
  {
   "cell_type": "code",
   "execution_count": null,
   "metadata": {
    "collapsed": true
   },
   "outputs": [],
   "source": [
    "import scipy.io as scio\n",
    "import pandas as pd\n",
    "\n",
    "data_path=\"train.mat\"\n",
    "data = scio.loadmat(\"data.mat\")\n",
    "label=data_train.get('label')#取出字典里的label\n",
    "# label = data['label'] \n",
    "data=data_train.get('data')#取出字典里的data\n",
    "# data = data['data']\n",
    "# 保存\n",
    "scipy.io.savemat(file_name = 'train.mat',mdict = {'label':label, 'data':data})  # 写入mat文件\n"
   ]
  },
  {
   "cell_type": "markdown",
   "metadata": {},
   "source": [
    "### 2、h5py"
   ]
  },
  {
   "cell_type": "code",
   "execution_count": null,
   "metadata": {
    "collapsed": true
   },
   "outputs": [],
   "source": [
    "import h5py\n",
    "mat = h5py.File('data.mat')\n",
    "data = mat['data'][:]\n",
    "label = mat['label'][:]"
   ]
  },
  {
   "cell_type": "markdown",
   "metadata": {},
   "source": [
    "## 循环添加数据\n",
    "有时需要迭代的导入数据，并添加到一个变量中"
   ]
  },
  {
   "cell_type": "code",
   "execution_count": null,
   "metadata": {
    "collapsed": true
   },
   "outputs": [],
   "source": [
    "import h5py\n",
    "import numpy as np\n",
    "alldata = np.zeros((1, nchan,126)) #先生成一个空的矩阵，需要与导入数据维度（需要连接的那一维）相同\n",
    "labels = np.zeros((1)) + 8\n",
    "for path in physionet_paths:\n",
    "    mat = h5py.File(path[0])\n",
    "    # data[x[1]]\n",
    "    # w=data[x[1]]['wave']\n",
    "    data = mat['data'][:]\n",
    "    label = mat['label'][:]\n",
    "    label = (label.transpose((1, 0)) - 1).astype(np.int64)\n",
    "    data = data.transpose((0, 2, 1)).astype(np.float32)  # trials x channels x timesteps\n",
    "    # physionet_paths = np.concatenate(physionet_paths)\n",
    "    alldata = np.concatenate((alldata, data), axis=0) # 连接\n",
    "    labels = np.concatenate((labels, label[:, 0]), axis=0)\n",
    "train_X = np.delete(alldata, 0, axis=0) #删除开始生成的那一维\n",
    "train_y = np.delete(labels, 0, axis=0)"
   ]
  },
  {
   "cell_type": "markdown",
   "metadata": {},
   "source": [
    "## 数组重新排列\n",
    "相当于matlab的permute函数\n",
    "permute(A,[2 1 3]);%例如A是4×5×6的三维数组，permute后A变成5×4×6"
   ]
  },
  {
   "cell_type": "code",
   "execution_count": null,
   "metadata": {
    "collapsed": true
   },
   "outputs": [],
   "source": [
    "data.transpose((0, 2, 1)\n",
    "arr = [1,2,3,4,5,6,7,8,9] 一个一维的list，长度为9\n",
    "arr.reshape(3,3)\n",
    "arr.reshape(-1,3)#-1代表不知道可以分成多少行\n",
    "               "
   ]
  },
  {
   "cell_type": "markdown",
   "metadata": {},
   "source": [
    "## 打乱顺序"
   ]
  },
  {
   "cell_type": "code",
   "execution_count": 2,
   "metadata": {
    "collapsed": true
   },
   "outputs": [],
   "source": [
    "from random import shuffle\n",
    "import numpy as np\n",
    "\n",
    "# n_subj2 = len(label1)\n",
    "n_subj2 = 10\n",
    "preprodata2 = np.random.rand(10,3)\n",
    "index = np.arange(n_subj2)\n",
    "shuffle(index) # 打乱顺序\n",
    "preprodata2 = preprodata2[index]\n",
    "\n",
    "## 打乱两个list\n",
    "cc = list(zip(preprodata2, label2))\n",
    "shuffle(cc)\n",
    "preprodata2[:], label2[:] = zip(*cc)\n"
   ]
  },
  {
   "cell_type": "markdown",
   "metadata": {},
   "source": [
    "## 排序\n",
    "http://python3porting.com/preparing.html#keycmp-section\n",
    "Python 3.x使用names.sort（）可能会出错"
   ]
  },
  {
   "cell_type": "code",
   "execution_count": null,
   "metadata": {
    "collapsed": true
   },
   "outputs": [],
   "source": [
    "names = ['Adam', 'Donald', 'John']\n",
    "names.sort(key=lambda x: x[1:])\n",
    "names\n",
    "['Adam', 'John', 'Donald']\n",
    "# Python 2.4 also introduced a reverse parameter.\n",
    "\n",
    "names = ['Adam', 'Donald', 'John']\n",
    "names.sort(key=lambda x: x[1:], reverse=True)\n",
    "names\n",
    "['Donald', 'John', 'Adam']\n",
    "# There is one case where using key is less obvious than using cmp and that’s when you need to sort on several values. Let’s say we want the result to be sorted with the longest names first and names of the same length should be sorted alphabetically. Doing this with a key function is not immediately obvious, but the solution is usually to sort twice, with the least important sorting first.\n",
    "\n",
    "names = ['Adam', 'Donald', 'John']\n",
    "# Alphabetical sort\n",
    "names.sort()\n",
    "# Long names should go first\n",
    "names.sort(key=lambda x: len(x), reverse=True)\n",
    "names\n",
    "['Donald', 'Adam', 'John']"
   ]
  }
 ],
 "metadata": {
  "anaconda-cloud": {},
  "kernelspec": {
   "display_name": "Python [conda env:Anaconda]",
   "language": "python",
   "name": "conda-env-Anaconda-py"
  },
  "language_info": {
   "codemirror_mode": {
    "name": "ipython",
    "version": 3
   },
   "file_extension": ".py",
   "mimetype": "text/x-python",
   "name": "python",
   "nbconvert_exporter": "python",
   "pygments_lexer": "ipython3",
   "version": "3.5.6"
  }
 },
 "nbformat": 4,
 "nbformat_minor": 1
}
