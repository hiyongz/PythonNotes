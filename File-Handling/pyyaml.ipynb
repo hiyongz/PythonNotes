{
 "cells": [
  {
   "cell_type": "markdown",
   "metadata": {},
   "source": [
    "本文介绍PyYAML库解析、保存yaml文件使用方法。\r\n"
   ]
  },
  {
   "cell_type": "markdown",
   "metadata": {},
   "source": [
    "# yaml.load\r\n",
    "支持任意类型的python对象"
   ]
  },
  {
   "cell_type": "code",
   "execution_count": null,
   "metadata": {},
   "outputs": [],
   "source": [
    "import yaml\r\n",
    "\r\n",
    "\r\n",
    "with open(\"data1.yaml\", encoding=\"utf-8\") as f:\r\n",
    "    # data = yaml.safe_load(f)\r\n",
    "    datas = yaml.load_all(f)\r\n",
    "    print(datas)\r\n",
    "\r\n",
    "    for data in datas:\r\n",
    "        print(data)\r\n",
    "        print(type(data))\r\n",
    "\r\n",
    "\r\n"
   ]
  },
  {
   "cell_type": "markdown",
   "metadata": {},
   "source": [
    "修改字段内容"
   ]
  },
  {
   "cell_type": "code",
   "execution_count": 33,
   "metadata": {},
   "outputs": [
    {
     "name": "stdout",
     "output_type": "stream",
     "text": [
      "[123, 'dictvalue2', 'dictvalue3', 'dictvalue3', 'dictvalue3']\n"
     ]
    },
    {
     "name": "stderr",
     "output_type": "stream",
     "text": [
      "ipykernel_launcher:5: YAMLLoadWarning: calling yaml.load() without Loader=... is deprecated, as the default Loader is unsafe. Please read https://msg.pyyaml.org/load for full details.\n"
     ]
    }
   ],
   "source": [
    "import yaml\r\n",
    "\r\n",
    "with open(\"data1_2.yaml\", encoding=\"utf-8\") as f:\r\n",
    "    # data = yaml.safe_load(f)\r\n",
    "    data = yaml.load(f)\r\n",
    "    data['mydict'].append(\"dictvalue3\")\r\n",
    "    data['mydict'][0] = 123\r\n",
    "    # data.update({data['mydict'][0]:123})\r\n",
    "    print(data['mydict'])\r\n",
    "\r\n",
    "with open(\"data1_2.yaml\", \"w\", encoding=\"utf-8\") as f:\r\n",
    "    yaml.dump(data,f,allow_unicode=True)"
   ]
  },
  {
   "cell_type": "markdown",
   "metadata": {},
   "source": [
    "也支持Python类的实例"
   ]
  },
  {
   "cell_type": "code",
   "execution_count": 2,
   "metadata": {},
   "outputs": [
    {
     "name": "stdout",
     "output_type": "stream",
     "text": [
      "lishi\n"
     ]
    },
    {
     "name": "stderr",
     "output_type": "stream",
     "text": [
      "ipykernel_launcher:14: YAMLLoadWarning: calling yaml.load() without Loader=... is deprecated, as the default Loader is unsafe. Please read https://msg.pyyaml.org/load for full details.\n"
     ]
    }
   ],
   "source": [
    "import yaml\r\n",
    "\r\n",
    "class Person(yaml.YAMLObject):\r\n",
    "  yaml_tag = u'!Person'\r\n",
    "  def __init__(self, name, height):\r\n",
    "    self.name = name\r\n",
    "    self.height = height\r\n",
    "\r\n",
    "  def __repr__(self):\r\n",
    "    return f\"{self.name}‘s height is {self.height}cm\"\r\n",
    "\r\n",
    "with open(\"data.yaml\", encoding=\"utf-8\") as f:\r\n",
    "    # p = yaml.safe_load(f)\r\n",
    "    p = yaml.load(f)\r\n",
    "    print(p.name)\r\n",
    "\r\n",
    "\r\n",
    "# with open(\"data2.yaml\", \"w\", encoding=\"utf-8\") as f:\r\n",
    "#     yaml.dump(steps,f)"
   ]
  },
  {
   "cell_type": "markdown",
   "metadata": {},
   "source": [
    "# yaml.dump\r\n",
    "dump函数将Python对象序列化为一个YAML文档"
   ]
  },
  {
   "cell_type": "code",
   "execution_count": null,
   "metadata": {},
   "outputs": [],
   "source": [
    "data = yaml.dump([1,2,3], explicit_start=True)\r\n",
    "print(data)\r\n",
    "print(type(data))"
   ]
  },
  {
   "cell_type": "markdown",
   "metadata": {},
   "source": [
    "序列化多个对象"
   ]
  },
  {
   "cell_type": "code",
   "execution_count": 3,
   "metadata": {},
   "outputs": [
    {
     "name": "stdout",
     "output_type": "stream",
     "text": [
      "---\n",
      "- 1\n",
      "- 2\n",
      "- 3\n",
      "---\n",
      "1: value1\n",
      "2: value2\n",
      "\n"
     ]
    }
   ],
   "source": [
    "data1 = [1,2,3]\r\n",
    "data2 = {1:\"value1\",2:\"value2\"}\r\n",
    "print(yaml.dump_all([data1,data2], explicit_start=True))"
   ]
  },
  {
   "cell_type": "markdown",
   "metadata": {},
   "source": [
    "保存到文件中"
   ]
  },
  {
   "cell_type": "code",
   "execution_count": 4,
   "metadata": {},
   "outputs": [],
   "source": [
    "with open(\"data4.yaml\", \"w\", encoding=\"utf-8\") as f:\r\n",
    "    yaml.dump_all([data1,data2],f,allow_unicode=True)"
   ]
  }
 ],
 "metadata": {
  "interpreter": {
   "hash": "7adaecee6ea4919e47d0b9e500cd90be56f0afad878c7d0a6bf7e7a75a66e0c0"
  },
  "kernelspec": {
   "display_name": "Python 3.7.4 64-bit ('Python37')",
   "name": "python3"
  },
  "language_info": {
   "codemirror_mode": {
    "name": "ipython",
    "version": 3
   },
   "file_extension": ".py",
   "mimetype": "text/x-python",
   "name": "python",
   "nbconvert_exporter": "python",
   "pygments_lexer": "ipython3",
   "version": "3.7.4"
  },
  "orig_nbformat": 4
 },
 "nbformat": 4,
 "nbformat_minor": 2
}