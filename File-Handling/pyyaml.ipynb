{
 "cells": [
  {
   "cell_type": "markdown",
   "metadata": {},
   "source": [
    "本文介绍PyYAML库解析、保存yaml文件使用方法。\r\n"
   ]
  },
  {
   "cell_type": "markdown",
   "metadata": {},
   "source": []
  },
  {
   "cell_type": "code",
   "execution_count": 4,
   "metadata": {},
   "outputs": [
    {
     "ename": "TypeError",
     "evalue": "dumps() takes 1 positional argument but 2 were given",
     "output_type": "error",
     "traceback": [
      "\u001b[1;31m---------------------------------------------------------------------------\u001b[0m",
      "\u001b[1;31mTypeError\u001b[0m                                 Traceback (most recent call last)",
      "\u001b[1;32m<ipython-input-4-03536ff2550f>\u001b[0m in \u001b[0;36m<module>\u001b[1;34m\u001b[0m\n\u001b[0;32m     23\u001b[0m \u001b[1;33m\u001b[0m\u001b[0m\n\u001b[0;32m     24\u001b[0m \u001b[1;32mwith\u001b[0m \u001b[0mopen\u001b[0m\u001b[1;33m(\u001b[0m\u001b[1;34m\"data1.json\"\u001b[0m\u001b[1;33m,\u001b[0m\u001b[1;34m\"w\"\u001b[0m\u001b[1;33m,\u001b[0m \u001b[0mencoding\u001b[0m\u001b[1;33m=\u001b[0m\u001b[1;34m\"utf-8\"\u001b[0m\u001b[1;33m)\u001b[0m \u001b[1;32mas\u001b[0m \u001b[0mf\u001b[0m\u001b[1;33m:\u001b[0m\u001b[1;33m\u001b[0m\u001b[1;33m\u001b[0m\u001b[0m\n\u001b[1;32m---> 25\u001b[1;33m     \u001b[0mjson\u001b[0m\u001b[1;33m.\u001b[0m\u001b[0mdumps\u001b[0m\u001b[1;33m(\u001b[0m\u001b[0mp2\u001b[0m\u001b[1;33m,\u001b[0m\u001b[0mf\u001b[0m\u001b[1;33m)\u001b[0m\u001b[1;33m\u001b[0m\u001b[1;33m\u001b[0m\u001b[0m\n\u001b[0m\u001b[0;32m     26\u001b[0m     \u001b[0mprint\u001b[0m\u001b[1;33m(\u001b[0m\u001b[1;34m\"加载入文件完成...\"\u001b[0m\u001b[1;33m)\u001b[0m\u001b[1;33m\u001b[0m\u001b[1;33m\u001b[0m\u001b[0m\n\u001b[0;32m     27\u001b[0m \u001b[1;33m\u001b[0m\u001b[0m\n",
      "\u001b[1;31mTypeError\u001b[0m: dumps() takes 1 positional argument but 2 were given"
     ]
    }
   ],
   "source": [
    "from io import StringIO\r\n",
    "import json\r\n",
    "import yaml\r\n",
    "\r\n",
    "class Person(yaml.YAMLObject):\r\n",
    "  yaml_tag = u'!Person'\r\n",
    "  def __init__(self, name, height):\r\n",
    "    self.name = name\r\n",
    "    self.height = height\r\n",
    "\r\n",
    "  def __repr__(self):\r\n",
    "    return f\"{self.name}‘s height is {self.height}cm\"\r\n",
    "\r\n",
    "\r\n",
    "\r\n",
    "\r\n",
    "p2 = Person(name='lishi', height=176)\r\n",
    "\r\n",
    "\r\n",
    "with open(\"data.yaml\", \"w\", encoding=\"utf-8\") as f:\r\n",
    "    yaml.dump(p2,f)\r\n",
    "\r\n",
    "\r\n",
    "with open(\"data1.json\",\"w\", encoding=\"utf-8\") as f:\r\n",
    "    json.dumps(p2,f)\r\n",
    "    print(\"加载入文件完成...\")\r\n",
    "\r\n"
   ]
  },
  {
   "cell_type": "code",
   "execution_count": null,
   "metadata": {},
   "outputs": [],
   "source": [
    "import yaml\r\n",
    "\r\n",
    "\r\n",
    "with open(\"data2.yaml\", encoding=\"utf-8\") as f:\r\n",
    "    # steps = yaml.safe_load(f)\r\n",
    "    steps = yaml.load(f)\r\n",
    "    steps.update({\"123\":123})\r\n",
    "    print(steps)\r\n",
    "with open(\"data2.yaml\", \"w\", encoding=\"utf-8\") as f:\r\n",
    "    yaml.dump(steps,f)"
   ]
  }
 ],
 "metadata": {
  "interpreter": {
   "hash": "7adaecee6ea4919e47d0b9e500cd90be56f0afad878c7d0a6bf7e7a75a66e0c0"
  },
  "kernelspec": {
   "display_name": "Python 3.7.4 64-bit ('Python37')",
   "name": "python3"
  },
  "language_info": {
   "codemirror_mode": {
    "name": "ipython",
    "version": 3
   },
   "file_extension": ".py",
   "mimetype": "text/x-python",
   "name": "python",
   "nbconvert_exporter": "python",
   "pygments_lexer": "ipython3",
   "version": "3.7.4"
  },
  "orig_nbformat": 4
 },
 "nbformat": 4,
 "nbformat_minor": 2
}