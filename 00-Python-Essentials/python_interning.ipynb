{
 "metadata": {
  "language_info": {
   "codemirror_mode": {
    "name": "ipython",
    "version": 3
   },
   "file_extension": ".py",
   "mimetype": "text/x-python",
   "name": "python",
   "nbconvert_exporter": "python",
   "pygments_lexer": "ipython3",
   "version": "3.7.6"
  },
  "orig_nbformat": 4,
  "kernelspec": {
   "name": "python3",
   "display_name": "Python 3.7.6 64-bit ('base': conda)"
  },
  "interpreter": {
   "hash": "a8f61be024eba58adef938c9aa1e29e02cb3dece83a5348b1a2dafd16a070453"
  }
 },
 "nbformat": 4,
 "nbformat_minor": 2,
 "cells": [
  {
   "cell_type": "code",
   "execution_count": 1,
   "metadata": {},
   "outputs": [
    {
     "output_type": "stream",
     "name": "stdout",
     "text": [
      "True\nFalse\nTrue\nTrue\n"
     ]
    }
   ],
   "source": [
    "l1 = [1, 2, 3, 4]\n",
    "l2 = [1, 2, 3, 4]\n",
    "l3 = l2\n",
    "print(l1 == l2)\n",
    "print(l1 is l2)\n",
    "print(l2 == l3)\n",
    "print(l2 is l3)"
   ]
  },
  {
   "source": [
    "整型驻留"
   ],
   "cell_type": "markdown",
   "metadata": {}
  },
  {
   "cell_type": "code",
   "execution_count": 7,
   "metadata": {},
   "outputs": [
    {
     "output_type": "stream",
     "name": "stdout",
     "text": [
      "False\nTrue\nTrue\nTrue\n"
     ]
    }
   ],
   "source": [
    "a1 = 300\n",
    "b1 = 300\n",
    "c1 = b1\n",
    "print(a1 is b1)\n",
    "print(c1 is b1)\n",
    "a2 = 200\n",
    "b2 = 200\n",
    "c2 = b2\n",
    "print(a2 is b2)\n",
    "print(c2 is b2)\n"
   ]
  },
  {
   "source": [
    "浮点型"
   ],
   "cell_type": "markdown",
   "metadata": {}
  },
  {
   "cell_type": "code",
   "execution_count": 8,
   "metadata": {},
   "outputs": [
    {
     "output_type": "stream",
     "name": "stdout",
     "text": [
      "False\nTrue\n"
     ]
    }
   ],
   "source": [
    "a = 1.0\n",
    "b = 1.0\n",
    "print(a is b)\n",
    "print(a == b)"
   ]
  },
  {
   "source": [
    "字符串驻留"
   ],
   "cell_type": "markdown",
   "metadata": {}
  },
  {
   "cell_type": "code",
   "execution_count": 1,
   "metadata": {},
   "outputs": [
    {
     "output_type": "stream",
     "name": "stdout",
     "text": [
      "52347208\n52347208\n"
     ]
    }
   ],
   "source": [
    "a = ''\n",
    "b = ''\n",
    "print(id(a))\n",
    "print(id(b))"
   ]
  },
  {
   "cell_type": "code",
   "execution_count": 9,
   "metadata": {},
   "outputs": [
    {
     "output_type": "stream",
     "name": "stdout",
     "text": [
      "False\n"
     ]
    }
   ],
   "source": [
    "a = 'Hello World'\n",
    "b = 'Hello World'\n",
    "\n",
    "print(a is b)\n"
   ]
  },
  {
   "cell_type": "code",
   "execution_count": 10,
   "metadata": {},
   "outputs": [
    {
     "output_type": "stream",
     "name": "stdout",
     "text": [
      "True\n"
     ]
    }
   ],
   "source": [
    "a = 'Hello_World'\n",
    "b = 'Hello_World'\n",
    "\n",
    "print(a is b)"
   ]
  },
  {
   "cell_type": "code",
   "execution_count": 2,
   "metadata": {},
   "outputs": [
    {
     "output_type": "stream",
     "name": "stdout",
     "text": [
      "False\nTrue\nFalse\nTrue\n"
     ]
    }
   ],
   "source": [
    "a = 'Hello World'\n",
    "b = 'Hello World'\n",
    "c = 'Hello Worl'\n",
    "\n",
    "print(a is b)\n",
    "print(a == b)\n",
    "print(a is c+'d')\n",
    "print(a == c+'d')"
   ]
  },
  {
   "cell_type": "code",
   "execution_count": 7,
   "metadata": {},
   "outputs": [
    {
     "output_type": "stream",
     "name": "stdout",
     "text": [
      "False\nTrue\nFalse\nTrue\n"
     ]
    }
   ],
   "source": [
    "a = 'Hello World'\n",
    "b = 'Hello World'\n",
    "c = 'Hello Worl'\n",
    "\n",
    "\n",
    "print(a is b)\n",
    "print(a == b)\n",
    "print(a is c+'d')\n",
    "print(a == c+'d')"
   ]
  },
  {
   "cell_type": "code",
   "execution_count": 3,
   "metadata": {},
   "outputs": [
    {
     "output_type": "stream",
     "name": "stdout",
     "text": [
      "1696903317104\n1696903319088\n1696903319600\n1696903310128\n1696903269296\nHello World\n"
     ]
    }
   ],
   "source": [
    "letter = 'd'\n",
    "a = 'Hello World'\n",
    "b = 'Hello World'\n",
    "c = 'Hello Worl' + 'd'\n",
    "d = 'Hello Worl' + letter\n",
    "e = \" \".join(['Hello','World'])\n",
    "\n",
    "print(id(a))\n",
    "print(id(b))\n",
    "print(id(c))\n",
    "print(id(d))\n",
    "print(id(e))\n",
    "print(e)\n"
   ]
  },
  {
   "cell_type": "code",
   "execution_count": 5,
   "metadata": {},
   "outputs": [
    {
     "output_type": "stream",
     "name": "stdout",
     "text": [
      "False\n"
     ]
    }
   ],
   "source": [
    "a = 'aa'*5000\n",
    "b = 'aa'*5000\n",
    "print(a is b)"
   ]
  },
  {
   "cell_type": "code",
   "execution_count": 1,
   "metadata": {},
   "outputs": [
    {
     "output_type": "stream",
     "name": "stdout",
     "text": [
      "2198438515568\n2198438514992\n"
     ]
    }
   ],
   "source": [
    "a = '##'\n",
    "b = '##'\n",
    "print(id(a))\n",
    "print(id(b))"
   ]
  },
  {
   "cell_type": "code",
   "execution_count": 8,
   "metadata": {},
   "outputs": [
    {
     "output_type": "stream",
     "name": "stdout",
     "text": [
      "80716704\n80718504\n"
     ]
    }
   ],
   "source": [
    "a = '你'\n",
    "b = '你'\n",
    "print(id(a))\n",
    "print(id(b))"
   ]
  },
  {
   "cell_type": "code",
   "execution_count": 4,
   "metadata": {},
   "outputs": [
    {
     "output_type": "stream",
     "name": "stdout",
     "text": [
      "True\nTrue\n"
     ]
    }
   ],
   "source": [
    "a = True\n",
    "b = True\n",
    "print(a is b)\n",
    "print(a == b)"
   ]
  },
  {
   "source": [
    "元组"
   ],
   "cell_type": "markdown",
   "metadata": {}
  },
  {
   "cell_type": "code",
   "execution_count": 16,
   "metadata": {},
   "outputs": [
    {
     "output_type": "stream",
     "name": "stdout",
     "text": [
      "<class 'tuple'>\nFalse\nTrue\n"
     ]
    }
   ],
   "source": [
    "a = (1,2)\n",
    "b = (1,2)\n",
    "print(type(a))\n",
    "print(a is b)\n",
    "print(a == b)"
   ]
  },
  {
   "cell_type": "code",
   "execution_count": null,
   "metadata": {},
   "outputs": [],
   "source": [
    "强行驻留"
   ]
  },
  {
   "cell_type": "code",
   "execution_count": 6,
   "metadata": {},
   "outputs": [
    {
     "output_type": "stream",
     "name": "stdout",
     "text": [
      "1696920495088\n1696920495088\n1696920495088\n1696920495088\n1696920495088\n"
     ]
    }
   ],
   "source": [
    "import sys\n",
    "letter_d = 'd'\n",
    "a = sys.intern('Hello World')\n",
    "b = sys.intern('Hello World')\n",
    "c = sys.intern('Hello Worl' + 'd')\n",
    "d = sys.intern('Hello Worl' + letter)\n",
    "e = sys.intern(\" \".join(['Hello','World']))\n",
    "print(id(a))\n",
    "print(id(b))\n",
    "print(id(c))\n",
    "print(id(d))\n",
    "print(id(e))"
   ]
  },
  {
   "cell_type": "code",
   "execution_count": null,
   "metadata": {},
   "outputs": [],
   "source": []
  }
 ]
}