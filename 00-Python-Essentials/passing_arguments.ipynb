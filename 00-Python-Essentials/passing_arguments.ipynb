{
 "cells": [
  {
   "cell_type": "markdown",
   "metadata": {},
   "source": [
    "# python参数传递\r\n",
    "## 获取对象的内存地址"
   ]
  },
  {
   "cell_type": "code",
   "execution_count": null,
   "metadata": {},
   "outputs": [],
   "source": [
    "#!/usr/bin/python3\r\n",
    "# -*-coding:utf-8-*-\r\n",
    "l1 = [1, 2, 3]\r\n",
    "print(id(l1))  # 返回对象的内存地址\r\n",
    "\r\n",
    "l2 = l1\r\n",
    "print(id(l2))\r\n",
    "\r\n",
    "l1.append(4)\r\n",
    "print(id(l1))\r\n",
    "\r\n",
    "print(l1)\r\n",
    "print(l2)\r\n",
    "print(l1 is l2)\r\n",
    "\r\n",
    "l3 = [4, 5, 6]\r\n",
    "print(id(l3))"
   ]
  },
  {
   "cell_type": "markdown",
   "metadata": {},
   "source": [
    "## 变量赋值"
   ]
  },
  {
   "cell_type": "code",
   "execution_count": null,
   "metadata": {},
   "outputs": [],
   "source": [
    "a = 1\r\n",
    "print(id(a))\r\n",
    "b = a\r\n",
    "print(id(b))\r\n",
    "a = a + 1\r\n",
    "print(id(a))\r\n",
    "c = 1\r\n",
    "print(id(c))"
   ]
  },
  {
   "cell_type": "markdown",
   "metadata": {},
   "source": [
    "## == vs is"
   ]
  },
  {
   "cell_type": "code",
   "execution_count": null,
   "metadata": {},
   "outputs": [],
   "source": [
    "a = 1\r\n",
    "b = a\r\n",
    "print(id(a))\r\n",
    "print(id(b))\r\n",
    "print(a == b)\r\n",
    "print(a is b)\r\n",
    "\r\n",
    "if a is None:\r\n",
    "    print(\"a is None\")\r\n",
    "if a is not None:\r\n",
    "    print(\"a is not None\")"
   ]
  },
  {
   "cell_type": "markdown",
   "metadata": {},
   "source": [
    "# Python浅拷贝和深度拷贝\r\n",
    "## 不可变数据类型浅拷贝"
   ]
  },
  {
   "cell_type": "code",
   "execution_count": null,
   "metadata": {},
   "outputs": [],
   "source": [
    "import copy\r\n",
    "a = 1\r\n",
    "b = copy.copy(a)\r\n",
    "print(id(a))\r\n",
    "print(id(b))\r\n",
    "print(a == b)\r\n",
    "print(a is b)\r\n",
    "\r\n",
    "t1 = (1, 2, 3)\r\n",
    "t2 = tuple(t1)\r\n",
    "print(id(t1))\r\n",
    "print(id(t2))\r\n",
    "print(t1 == t2)\r\n",
    "print(t1 is t2)"
   ]
  },
  {
   "cell_type": "markdown",
   "metadata": {},
   "source": [
    "## 可变数据类型浅拷贝"
   ]
  },
  {
   "cell_type": "code",
   "execution_count": null,
   "metadata": {},
   "outputs": [],
   "source": [
    "l1 = [1, 2, 3]\r\n",
    "l2 = list(l1)\r\n",
    "l3 = copy.copy(l1)\r\n",
    "l4 = l1[:]\r\n",
    "print(id(l1))\r\n",
    "print(id(l2))\r\n",
    "print(l1 == l2)\r\n",
    "print(l1 is l2)\r\n",
    "print(id(l3))\r\n",
    "print(id(l4))\r\n",
    "\r\n",
    "print(\"############\")\r\n",
    "l1.append(4)\r\n",
    "print(id(l1))\r\n",
    "print(l1 == l2)\r\n",
    "print(l1 is l2)\r\n",
    "\r\n",
    "print(\"###############\")\r\n",
    "l1 = [[1, 2], (4, 5)]\r\n",
    "l2 = copy.copy(l1)\r\n",
    "print(id(l1))\r\n",
    "print(id(l2))\r\n",
    "print(id(l1[0]))\r\n",
    "print(id(l2[0]))\r\n",
    "l1.append(6)\r\n",
    "print(l1)\r\n",
    "print(l2)\r\n",
    "l1[0].append(3)\r\n",
    "print(l1)\r\n",
    "print(l2)"
   ]
  },
  {
   "cell_type": "markdown",
   "metadata": {},
   "source": [
    "## 深度拷贝"
   ]
  },
  {
   "cell_type": "code",
   "execution_count": null,
   "metadata": {},
   "outputs": [],
   "source": [
    "\r\n",
    "l1 = [[1, 2], (4, 5)]\r\n",
    "l2 = copy.deepcopy(l1)\r\n",
    "print(id(l1))\r\n",
    "print(id(l2))\r\n",
    "l1.append(6)\r\n",
    "print(l1)\r\n",
    "print(l2)\r\n",
    "l1[0].append(3)\r\n",
    "print(l1)\r\n",
    "print(l2)"
   ]
  },
  {
   "cell_type": "markdown",
   "metadata": {},
   "source": [
    "# python垃圾回收\r\n",
    "## 引用计数"
   ]
  },
  {
   "cell_type": "code",
   "execution_count": null,
   "metadata": {},
   "outputs": [],
   "source": [
    "from sys import getrefcount\r\n",
    "\r\n",
    "l1 = [1, 2, 3]\r\n",
    "print(getrefcount(l1)) # 查看引用计数\r\n",
    "l2 = l1\r\n",
    "print(getrefcount(l2))"
   ]
  },
  {
   "cell_type": "markdown",
   "metadata": {},
   "source": [
    "## del"
   ]
  },
  {
   "cell_type": "code",
   "execution_count": null,
   "metadata": {},
   "outputs": [],
   "source": [
    "class TestObjectA(dict):\r\n",
    "    def __init__(self):\r\n",
    "        print(\"A: hello!!!\")\r\n",
    "    def __del__(self):\r\n",
    "        print(\"A: bye!!!\")\r\n",
    "\r\n",
    "class TestObjectB(dict):\r\n",
    "    def __init__(self):\r\n",
    "        print(\"B: hello!!!\")\r\n",
    "    def __del__(self):\r\n",
    "        print(\"B: bye!!!\")\r\n",
    "\r\n",
    "a = TestObjectA()\r\n",
    "b = a\r\n",
    "c = a\r\n",
    "print(getrefcount(c))\r\n",
    "del a\r\n",
    "print(getrefcount(c))\r\n",
    "del b\r\n",
    "print(getrefcount(c))\r\n",
    "del c\r\n",
    "print(\"666\")"
   ]
  },
  {
   "cell_type": "markdown",
   "metadata": {},
   "source": [
    "## 标记清除\r\n",
    "循环引用"
   ]
  },
  {
   "cell_type": "code",
   "execution_count": null,
   "metadata": {},
   "outputs": [],
   "source": [
    "a = TestObjectA()\r\n",
    "b = TestObjectB()\r\n",
    "a['1'] = b\r\n",
    "b['1'] = a\r\n",
    "del a\r\n",
    "del b\r\n",
    "\r\n",
    "print(\"666\")"
   ]
  },
  {
   "cell_type": "markdown",
   "metadata": {},
   "source": [
    "## 分代回收"
   ]
  },
  {
   "cell_type": "code",
   "execution_count": null,
   "metadata": {},
   "outputs": [],
   "source": [
    "import gc\r\n",
    "\r\n",
    "print(gc.get_threshold())\r\n",
    "\r\n",
    "\r\n",
    "a = TestObjectA\r\n",
    "b = a\r\n",
    "print(gc.get_count())\r\n",
    "del a\r\n",
    "print(gc.get_count())\r\n",
    "del b\r\n",
    "print(gc.get_count())"
   ]
  },
  {
   "cell_type": "markdown",
   "metadata": {},
   "source": [
    "# Python函数参数类型"
   ]
  },
  {
   "cell_type": "markdown",
   "metadata": {},
   "source": [
    "## 必选参数\r\n"
   ]
  },
  {
   "cell_type": "code",
   "execution_count": null,
   "metadata": {},
   "outputs": [],
   "source": [
    "def test_divide(num1, num2):\r\n",
    "  return num1/num2\r\n",
    "\r\n",
    "print(test_divide(1,2))\r\n",
    "print(test_divide(num1=1,num2=2))\r\n",
    "print(test_divide(num2=2,num1=1))\r\n"
   ]
  },
  {
   "cell_type": "markdown",
   "metadata": {},
   "source": [
    "## 位置参数"
   ]
  },
  {
   "cell_type": "code",
   "execution_count": 4,
   "metadata": {},
   "outputs": [
    {
     "ename": "SyntaxError",
     "evalue": "positional argument follows keyword argument (<ipython-input-4-1d28119d2cb3>, line 3)",
     "output_type": "error",
     "traceback": [
      "\u001b[1;36m  File \u001b[1;32m\"<ipython-input-4-1d28119d2cb3>\"\u001b[1;36m, line \u001b[1;32m3\u001b[0m\n\u001b[1;33m    print(pow(x=5,2))\u001b[0m\n\u001b[1;37m                   ^\u001b[0m\n\u001b[1;31mSyntaxError\u001b[0m\u001b[1;31m:\u001b[0m positional argument follows keyword argument\n"
     ]
    }
   ],
   "source": [
    "print(pow(2,5))\r\n",
    "print(pow(5,2))\r\n",
    "print(pow(x=5,2))"
   ]
  },
  {
   "cell_type": "markdown",
   "metadata": {},
   "source": [
    "## 强制位置参数\r\n",
    "Positional-Only Parameters"
   ]
  },
  {
   "cell_type": "code",
   "execution_count": 11,
   "metadata": {},
   "outputs": [
    {
     "name": "stdout",
     "output_type": "stream",
     "text": [
      "0.5\n"
     ]
    }
   ],
   "source": [
    "def test_divide(num1, num2=2, /):\r\n",
    "  return num1/num2\r\n",
    "\r\n",
    "print(test_divide(1,2))\r\n",
    "print(test_divide(num1=1,num2=2))"
   ]
  },
  {
   "cell_type": "markdown",
   "metadata": {},
   "source": [
    "## 可变参数"
   ]
  },
  {
   "cell_type": "code",
   "execution_count": null,
   "metadata": {},
   "outputs": [],
   "source": [
    "def test_sum(*numbers):\n",
    "    print(numbers)\n",
    "    print(type(numbers))\n",
    "    sum = 0\n",
    "    for num in numbers:\n",
    "        sum = sum + num\n",
    "    return sum\n",
    "\n",
    "print(test_sum(1,2,3,4))"
   ]
  },
  {
   "cell_type": "markdown",
   "metadata": {},
   "source": [
    "## 关键字参数"
   ]
  },
  {
   "cell_type": "code",
   "execution_count": null,
   "metadata": {},
   "outputs": [],
   "source": [
    "def person(**message):\n",
    "    print(message)\n",
    "    print(type(message))\n",
    "    if 'name' in message:\n",
    "        print(f\"my name is {message['name']}\")\n",
    "    \n",
    "\n",
    "person(name='zhangsan', age=18)"
   ]
  },
  {
   "cell_type": "code",
   "execution_count": null,
   "metadata": {},
   "outputs": [],
   "source": [
    "def person(name,age=20,*hobby, **message):    \n",
    "    print(f\"my name is {name}, age {age}, hobbies {hobby}, others {message}\")\n",
    "    \n",
    "\n",
    "person('zhangsan', 18, 'running','swimming', height=175, weight=60)"
   ]
  },
  {
   "cell_type": "markdown",
   "metadata": {},
   "source": []
  },
  {
   "cell_type": "markdown",
   "metadata": {},
   "source": [
    "## 命名关键字参数\r\n",
    "限制关键字参数的名字"
   ]
  },
  {
   "cell_type": "code",
   "execution_count": 51,
   "metadata": {},
   "outputs": [
    {
     "name": "stdout",
     "output_type": "stream",
     "text": [
      "my name is zhangsan, age 18, height 175, weight 60\n",
      "my name is zhangsan, age 18, height 175, weight 60\n"
     ]
    }
   ],
   "source": [
    "def person(name,age=20,*, height, weight):    \r\n",
    "    print(f\"my name is {name}, age {age}, height {height}, weight {weight}\")    \r\n",
    "\r\n",
    "person('zhangsan', 18, height=175, weight=60)\r\n",
    "person('zhangsan', 18, height=175, weight=60)"
   ]
  },
  {
   "cell_type": "code",
   "execution_count": null,
   "metadata": {},
   "outputs": [],
   "source": [
    "def person(name,age=20,*, height=175, weight):    \r\n",
    "    print(f\"my name is {name}, age {age}, height {height}, weight {weight}\")    \r\n",
    "\r\n",
    "person('zhangsan', 18)"
   ]
  },
  {
   "cell_type": "code",
   "execution_count": null,
   "metadata": {},
   "outputs": [],
   "source": [
    "def person(name,age=20,*hobby, height=175, weight):    \r\n",
    "    print(f\"my name is {name}, age {age}, hobbies {hobby}, height {height}, weight {weight}\")    \r\n",
    "\r\n",
    "person('zhangsan', 18, 'running','swimming', weight=60)"
   ]
  },
  {
   "cell_type": "markdown",
   "metadata": {},
   "source": [
    "# python参数传递"
   ]
  },
  {
   "cell_type": "code",
   "execution_count": null,
   "metadata": {},
   "outputs": [],
   "source": [
    "def test_func1(l):\n",
    "  l.append(4)\n",
    "\n",
    "l1 = [1, 2, 3]\n",
    "l2 = l1\n",
    "test_func1(l1)\n",
    "print(l1)\n",
    "print(l2)"
   ]
  },
  {
   "cell_type": "code",
   "execution_count": null,
   "metadata": {},
   "outputs": [],
   "source": [
    "def test_func2(l):\n",
    "  l = l + [4]\n",
    "\n",
    "l1 = [1, 2, 3]\n",
    "test_func2(l1)\n",
    "print(l1)\n"
   ]
  },
  {
   "cell_type": "code",
   "execution_count": null,
   "metadata": {},
   "outputs": [],
   "source": [
    "def test_func3(l):\n",
    "  l = l + [4]\n",
    "  return l\n",
    "l1 = [1, 2, 3]\n",
    "l1 = test_func3(l1)\n",
    "print(l1)"
   ]
  },
  {
   "cell_type": "code",
   "execution_count": null,
   "metadata": {},
   "outputs": [],
   "source": [
    "def test_func4(l):\n",
    "  l.append(4)\n",
    "  return l\n",
    "\n",
    "l1 = [1, 2, 3]\n",
    "l2 = l1\n",
    "l1 = test_func4(l1)\n",
    "print(l1)\n",
    "print(l2)\n",
    "print(l1 is l2)"
   ]
  },
  {
   "cell_type": "code",
   "execution_count": null,
   "metadata": {},
   "outputs": [],
   "source": [
    "def test_func5(l):\n",
    "  l = l + [4]\n",
    "  return l\n",
    "\n",
    "l1 = [1, 2, 3]\n",
    "l2 = l1\n",
    "l1 = test_func5(l1)\n",
    "print(l1)\n",
    "print(l2)\n",
    "print(l1 is l2)"
   ]
  },
  {
   "cell_type": "code",
   "execution_count": null,
   "metadata": {},
   "outputs": [],
   "source": [
    "def my_func1(b):\n",
    "  b = 2\n",
    "\n",
    "a = 1\n",
    "my_func1(a)\n",
    "print(a)"
   ]
  },
  {
   "cell_type": "code",
   "execution_count": null,
   "metadata": {},
   "outputs": [],
   "source": []
  }
 ],
 "metadata": {
  "interpreter": {
   "hash": "ac59ebe37160ed0dfa835113d9b8498d9f09ceb179beaac4002f036b9467c963"
  },
  "kernelspec": {
   "display_name": "Python 3.9.5 64-bit",
   "name": "python3"
  },
  "language_info": {
   "codemirror_mode": {
    "name": "ipython",
    "version": 3
   },
   "file_extension": ".py",
   "mimetype": "text/x-python",
   "name": "python",
   "nbconvert_exporter": "python",
   "pygments_lexer": "ipython3",
   "version": "3.9.5"
  },
  "orig_nbformat": 4
 },
 "nbformat": 4,
 "nbformat_minor": 2
}