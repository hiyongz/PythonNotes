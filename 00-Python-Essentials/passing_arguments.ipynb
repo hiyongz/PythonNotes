{
 "cells": [
  {
   "cell_type": "markdown",
   "metadata": {},
   "source": [
    "# python参数传递\r\n",
    "## 获取对象的内存地址"
   ]
  },
  {
   "cell_type": "code",
   "execution_count": 16,
   "metadata": {},
   "outputs": [
    {
     "name": "stdout",
     "output_type": "stream",
     "text": [
      "1877122629384\n",
      "1877122629384\n",
      "1877122629384\n",
      "[1, 2, 3, 4]\n",
      "[1, 2, 3, 4]\n",
      "True\n",
      "1877122401416\n"
     ]
    }
   ],
   "source": [
    "#!/usr/bin/python3\r\n",
    "# -*-coding:utf-8-*-\r\n",
    "l1 = [1, 2, 3]\r\n",
    "print(id(l1))  # 返回对象的内存地址\r\n",
    "\r\n",
    "l2 = l1\r\n",
    "print(id(l2))\r\n",
    "\r\n",
    "l1.append(4)\r\n",
    "print(id(l1))\r\n",
    "\r\n",
    "print(l1)\r\n",
    "print(l2)\r\n",
    "print(l1 is l2)\r\n",
    "\r\n",
    "l3 = [4, 5, 6]\r\n",
    "print(id(l3))"
   ]
  },
  {
   "cell_type": "markdown",
   "metadata": {},
   "source": [
    "## 变量赋值"
   ]
  },
  {
   "cell_type": "code",
   "execution_count": 17,
   "metadata": {},
   "outputs": [
    {
     "name": "stdout",
     "output_type": "stream",
     "text": [
      "140719112352000\n",
      "140719112352000\n",
      "140719112352032\n",
      "140719112352000\n"
     ]
    }
   ],
   "source": [
    "a = 1\r\n",
    "print(id(a))\r\n",
    "b = a\r\n",
    "print(id(b))\r\n",
    "a = a + 1\r\n",
    "print(id(a))\r\n",
    "c = 1\r\n",
    "print(id(c))"
   ]
  },
  {
   "cell_type": "markdown",
   "metadata": {},
   "source": [
    "## == vs is"
   ]
  },
  {
   "cell_type": "code",
   "execution_count": 18,
   "metadata": {},
   "outputs": [
    {
     "name": "stdout",
     "output_type": "stream",
     "text": [
      "140719112352000\n",
      "140719112352000\n",
      "True\n",
      "True\n",
      "a is not None\n"
     ]
    }
   ],
   "source": [
    "a = 1\r\n",
    "b = a\r\n",
    "print(id(a))\r\n",
    "print(id(b))\r\n",
    "print(a == b)\r\n",
    "print(a is b)\r\n",
    "\r\n",
    "if a is None:\r\n",
    "    print(\"a is None\")\r\n",
    "if a is not None:\r\n",
    "    print(\"a is not None\")"
   ]
  },
  {
   "cell_type": "markdown",
   "metadata": {},
   "source": [
    "# Python浅拷贝和深度拷贝\r\n",
    "## 不可变数据类型浅拷贝"
   ]
  },
  {
   "cell_type": "code",
   "execution_count": 19,
   "metadata": {},
   "outputs": [
    {
     "name": "stdout",
     "output_type": "stream",
     "text": [
      "140719112352000\n",
      "140719112352000\n",
      "True\n",
      "True\n",
      "1877121502728\n",
      "1877121502728\n",
      "True\n",
      "True\n"
     ]
    }
   ],
   "source": [
    "import copy\r\n",
    "a = 1\r\n",
    "b = copy.copy(a)\r\n",
    "print(id(a))\r\n",
    "print(id(b))\r\n",
    "print(a == b)\r\n",
    "print(a is b)\r\n",
    "\r\n",
    "t1 = (1, 2, 3)\r\n",
    "t2 = tuple(t1)\r\n",
    "print(id(t1))\r\n",
    "print(id(t2))\r\n",
    "print(t1 == t2)\r\n",
    "print(t1 is t2)"
   ]
  },
  {
   "cell_type": "markdown",
   "metadata": {},
   "source": [
    "## 可变数据类型浅拷贝"
   ]
  },
  {
   "cell_type": "code",
   "execution_count": 20,
   "metadata": {},
   "outputs": [
    {
     "name": "stdout",
     "output_type": "stream",
     "text": [
      "A: bye!!!\n",
      "B: bye!!!\n",
      "A: bye!!!\n",
      "B: bye!!!\n",
      "1877087371400\n",
      "1877087371784\n",
      "True\n",
      "False\n",
      "1877087373192\n",
      "1877122629384\n",
      "############\n",
      "1877087371400\n",
      "False\n",
      "False\n",
      "###############\n",
      "1877122628680\n",
      "1877122614728\n",
      "1877122401416\n",
      "1877122401416\n",
      "[[1, 2], (4, 5), 6]\n",
      "[[1, 2], (4, 5)]\n",
      "[[1, 2, 3], (4, 5), 6]\n",
      "[[1, 2, 3], (4, 5)]\n"
     ]
    }
   ],
   "source": [
    "l1 = [1, 2, 3]\r\n",
    "l2 = list(l1)\r\n",
    "l3 = copy.copy(l1)\r\n",
    "l4 = l1[:]\r\n",
    "print(id(l1))\r\n",
    "print(id(l2))\r\n",
    "print(l1 == l2)\r\n",
    "print(l1 is l2)\r\n",
    "print(id(l3))\r\n",
    "print(id(l4))\r\n",
    "\r\n",
    "print(\"############\")\r\n",
    "l1.append(4)\r\n",
    "print(id(l1))\r\n",
    "print(l1 == l2)\r\n",
    "print(l1 is l2)\r\n",
    "\r\n",
    "print(\"###############\")\r\n",
    "l1 = [[1, 2], (4, 5)]\r\n",
    "l2 = copy.copy(l1)\r\n",
    "print(id(l1))\r\n",
    "print(id(l2))\r\n",
    "print(id(l1[0]))\r\n",
    "print(id(l2[0]))\r\n",
    "l1.append(6)\r\n",
    "print(l1)\r\n",
    "print(l2)\r\n",
    "l1[0].append(3)\r\n",
    "print(l1)\r\n",
    "print(l2)"
   ]
  },
  {
   "cell_type": "markdown",
   "metadata": {},
   "source": [
    "## 深度拷贝"
   ]
  },
  {
   "cell_type": "code",
   "execution_count": 21,
   "metadata": {},
   "outputs": [
    {
     "name": "stdout",
     "output_type": "stream",
     "text": [
      "1877121751048\n",
      "1877067965448\n",
      "[[1, 2], (4, 5), 6]\n",
      "[[1, 2], (4, 5)]\n",
      "[[1, 2, 3], (4, 5), 6]\n",
      "[[1, 2], (4, 5)]\n"
     ]
    }
   ],
   "source": [
    "\r\n",
    "l1 = [[1, 2], (4, 5)]\r\n",
    "l2 = copy.deepcopy(l1)\r\n",
    "print(id(l1))\r\n",
    "print(id(l2))\r\n",
    "l1.append(6)\r\n",
    "print(l1)\r\n",
    "print(l2)\r\n",
    "l1[0].append(3)\r\n",
    "print(l1)\r\n",
    "print(l2)"
   ]
  },
  {
   "cell_type": "markdown",
   "metadata": {},
   "source": [
    "# python垃圾回收\r\n",
    "## 引用计数"
   ]
  },
  {
   "cell_type": "code",
   "execution_count": 22,
   "metadata": {},
   "outputs": [
    {
     "name": "stdout",
     "output_type": "stream",
     "text": [
      "2\n",
      "3\n"
     ]
    }
   ],
   "source": [
    "from sys import getrefcount\r\n",
    "\r\n",
    "l1 = [1, 2, 3]\r\n",
    "print(getrefcount(l1)) # 查看引用计数\r\n",
    "l2 = l1\r\n",
    "print(getrefcount(l2))"
   ]
  },
  {
   "cell_type": "markdown",
   "metadata": {},
   "source": [
    "## del"
   ]
  },
  {
   "cell_type": "code",
   "execution_count": 23,
   "metadata": {},
   "outputs": [
    {
     "name": "stdout",
     "output_type": "stream",
     "text": [
      "A: hello!!!\n",
      "4\n",
      "3\n",
      "2\n",
      "A: bye!!!\n",
      "666\n"
     ]
    }
   ],
   "source": [
    "class TestObjectA(dict):\r\n",
    "    def __init__(self):\r\n",
    "        print(\"A: hello!!!\")\r\n",
    "    def __del__(self):\r\n",
    "        print(\"A: bye!!!\")\r\n",
    "\r\n",
    "class TestObjectB(dict):\r\n",
    "    def __init__(self):\r\n",
    "        print(\"B: hello!!!\")\r\n",
    "    def __del__(self):\r\n",
    "        print(\"B: bye!!!\")\r\n",
    "\r\n",
    "a = TestObjectA()\r\n",
    "b = a\r\n",
    "c = a\r\n",
    "print(getrefcount(c))\r\n",
    "del a\r\n",
    "print(getrefcount(c))\r\n",
    "del b\r\n",
    "print(getrefcount(c))\r\n",
    "del c\r\n",
    "print(\"666\")"
   ]
  },
  {
   "cell_type": "markdown",
   "metadata": {},
   "source": [
    "## 标记清除\r\n",
    "循环引用"
   ]
  },
  {
   "cell_type": "code",
   "execution_count": 24,
   "metadata": {},
   "outputs": [
    {
     "name": "stdout",
     "output_type": "stream",
     "text": [
      "A: hello!!!\n",
      "B: hello!!!\n",
      "666\n"
     ]
    }
   ],
   "source": [
    "a = TestObjectA()\r\n",
    "b = TestObjectB()\r\n",
    "a['1'] = b\r\n",
    "b['1'] = a\r\n",
    "del a\r\n",
    "del b\r\n",
    "\r\n",
    "print(\"666\")"
   ]
  },
  {
   "cell_type": "markdown",
   "metadata": {},
   "source": [
    "## 分代回收"
   ]
  },
  {
   "cell_type": "code",
   "execution_count": 25,
   "metadata": {},
   "outputs": [
    {
     "name": "stdout",
     "output_type": "stream",
     "text": [
      "(700, 10, 10)\n",
      "(137, 11, 4)\n",
      "(141, 11, 4)\n",
      "(145, 11, 4)\n"
     ]
    }
   ],
   "source": [
    "import gc\r\n",
    "\r\n",
    "print(gc.get_threshold())\r\n",
    "\r\n",
    "\r\n",
    "a = TestObjectA\r\n",
    "b = a\r\n",
    "print(gc.get_count())\r\n",
    "del a\r\n",
    "print(gc.get_count())\r\n",
    "del b\r\n",
    "print(gc.get_count())"
   ]
  },
  {
   "source": [
    "# Python函数参数传递"
   ],
   "cell_type": "markdown",
   "metadata": {}
  },
  {
   "source": [
    "## 必选参数\n"
   ],
   "cell_type": "markdown",
   "metadata": {}
  },
  {
   "cell_type": "code",
   "execution_count": 34,
   "metadata": {},
   "outputs": [
    {
     "output_type": "execute_result",
     "data": {
      "text/plain": [
       "2"
      ]
     },
     "metadata": {},
     "execution_count": 34
    }
   ],
   "source": [
    "def test_add_one(num=1):\n",
    "  return num + 1\n",
    "\n",
    "test_add_one()"
   ]
  },
  {
   "cell_type": "code",
   "execution_count": 38,
   "metadata": {},
   "outputs": [
    {
     "output_type": "stream",
     "name": "stdout",
     "text": [
      "(1, 2, 3, 4)\n<class 'tuple'>\n10\n"
     ]
    }
   ],
   "source": [
    "def test_sum(*numbers):\n",
    "    print(numbers)\n",
    "    print(type(numbers))\n",
    "    sum = 0\n",
    "    for num in numbers:\n",
    "        sum = sum + num\n",
    "    return sum\n",
    "\n",
    "print(test_sum(1,2,3,4))"
   ]
  },
  {
   "cell_type": "code",
   "execution_count": 40,
   "metadata": {},
   "outputs": [
    {
     "output_type": "stream",
     "name": "stdout",
     "text": [
      "{'name': 'zhangsan', 'age': 18}\n<class 'dict'>\nmy name is zhangsan\n"
     ]
    }
   ],
   "source": [
    "def person(**message):\n",
    "    print(message)\n",
    "    print(type(message))\n",
    "    if 'name' in message:\n",
    "        print(f\"my name is {message['name']}\")\n",
    "    \n",
    "\n",
    "person(name='zhangsan', age=18)"
   ]
  },
  {
   "cell_type": "code",
   "execution_count": 51,
   "metadata": {},
   "outputs": [
    {
     "output_type": "stream",
     "name": "stdout",
     "text": [
      "my name is zhangsan, age 18, hobbies ('running', 'swimming'), others {'height': 175, 'weight': 60}\n"
     ]
    }
   ],
   "source": [
    "def person(name,age=20,*hobby, **message):    \n",
    "    print(f\"my name is {name}, age {age}, hobbies {hobby}, others {message}\")\n",
    "    \n",
    "\n",
    "person('zhangsan', 18, 'running','swimming', height=175, weight=60)"
   ]
  },
  {
   "cell_type": "code",
   "execution_count": 7,
   "metadata": {},
   "outputs": [
    {
     "output_type": "stream",
     "name": "stdout",
     "text": [
      "[1, 2, 3, 4]\n[1, 2, 3, 4]\n"
     ]
    }
   ],
   "source": [
    "def test_func1(l):\n",
    "  l.append(4)\n",
    "\n",
    "l1 = [1, 2, 3]\n",
    "l2 = l1\n",
    "test_func1(l1)\n",
    "print(l1)\n",
    "print(l2)"
   ]
  },
  {
   "cell_type": "code",
   "execution_count": 16,
   "metadata": {},
   "outputs": [
    {
     "output_type": "stream",
     "name": "stdout",
     "text": [
      "[1, 2, 3]\n"
     ]
    }
   ],
   "source": [
    "def test_func2(l):\n",
    "  l = l + [4]\n",
    "\n",
    "l1 = [1, 2, 3]\n",
    "test_func2(l1)\n",
    "print(l1)\n"
   ]
  },
  {
   "cell_type": "code",
   "execution_count": 15,
   "metadata": {},
   "outputs": [
    {
     "output_type": "stream",
     "name": "stdout",
     "text": [
      "[1, 2, 3, 4]\n"
     ]
    }
   ],
   "source": [
    "def test_func3(l):\n",
    "  l = l + [4]\n",
    "  return l\n",
    "l1 = [1, 2, 3]\n",
    "l1 = test_func3(l1)\n",
    "print(l1)"
   ]
  },
  {
   "cell_type": "code",
   "execution_count": 18,
   "metadata": {},
   "outputs": [
    {
     "output_type": "stream",
     "name": "stdout",
     "text": [
      "[1, 2, 3, 4]\n[1, 2, 3, 4]\nTrue\n"
     ]
    }
   ],
   "source": [
    "def test_func4(l):\n",
    "  l.append(4)\n",
    "  return l\n",
    "\n",
    "l1 = [1, 2, 3]\n",
    "l2 = l1\n",
    "l1 = test_func4(l1)\n",
    "print(l1)\n",
    "print(l2)\n",
    "print(l1 is l2)"
   ]
  },
  {
   "cell_type": "code",
   "execution_count": 20,
   "metadata": {},
   "outputs": [
    {
     "output_type": "stream",
     "name": "stdout",
     "text": [
      "[1, 2, 3, 4]\n[1, 2, 3]\nFalse\n"
     ]
    }
   ],
   "source": [
    "def test_func5(l):\n",
    "  l = l + [4]\n",
    "  return l\n",
    "\n",
    "l1 = [1, 2, 3]\n",
    "l2 = l1\n",
    "l1 = test_func5(l1)\n",
    "print(l1)\n",
    "print(l2)\n",
    "print(l1 is l2)"
   ]
  },
  {
   "cell_type": "code",
   "execution_count": 2,
   "metadata": {},
   "outputs": [
    {
     "output_type": "stream",
     "name": "stdout",
     "text": [
      "1\n"
     ]
    }
   ],
   "source": [
    "def my_func1(b):\n",
    "  b = 2\n",
    "\n",
    "a = 1\n",
    "my_func1(a)\n",
    "print(a)"
   ]
  },
  {
   "cell_type": "code",
   "execution_count": null,
   "metadata": {},
   "outputs": [],
   "source": []
  }
 ],
 "metadata": {
  "interpreter": {
   "hash": "a8f61be024eba58adef938c9aa1e29e02cb3dece83a5348b1a2dafd16a070453"
  },
  "kernelspec": {
   "name": "python3",
   "display_name": "Python 3.7.6 64-bit ('base': conda)"
  },
  "language_info": {
   "codemirror_mode": {
    "name": "ipython",
    "version": 3
   },
   "file_extension": ".py",
   "mimetype": "text/x-python",
   "name": "python",
   "nbconvert_exporter": "python",
   "pygments_lexer": "ipython3",
   "version": "3.7.6"
  },
  "orig_nbformat": 4
 },
 "nbformat": 4,
 "nbformat_minor": 2
}