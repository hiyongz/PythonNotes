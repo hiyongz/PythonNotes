{
 "cells": [
  {
   "cell_type": "markdown",
   "metadata": {},
   "source": [
    "# python参数传递\r\n",
    "## 获取对象的内存地址"
   ]
  },
  {
   "cell_type": "code",
   "execution_count": 16,
   "metadata": {},
   "outputs": [
    {
     "name": "stdout",
     "output_type": "stream",
     "text": [
      "1877122629384\n",
      "1877122629384\n",
      "1877122629384\n",
      "[1, 2, 3, 4]\n",
      "[1, 2, 3, 4]\n",
      "True\n",
      "1877122401416\n"
     ]
    }
   ],
   "source": [
    "#!/usr/bin/python3\r\n",
    "# -*-coding:utf-8-*-\r\n",
    "l1 = [1, 2, 3]\r\n",
    "print(id(l1))  # 返回对象的内存地址\r\n",
    "\r\n",
    "l2 = l1\r\n",
    "print(id(l2))\r\n",
    "\r\n",
    "l1.append(4)\r\n",
    "print(id(l1))\r\n",
    "\r\n",
    "print(l1)\r\n",
    "print(l2)\r\n",
    "print(l1 is l2)\r\n",
    "\r\n",
    "l3 = [4, 5, 6]\r\n",
    "print(id(l3))"
   ]
  },
  {
   "cell_type": "markdown",
   "metadata": {},
   "source": [
    "## 变量赋值"
   ]
  },
  {
   "cell_type": "code",
   "execution_count": 17,
   "metadata": {},
   "outputs": [
    {
     "name": "stdout",
     "output_type": "stream",
     "text": [
      "140719112352000\n",
      "140719112352000\n",
      "140719112352032\n",
      "140719112352000\n"
     ]
    }
   ],
   "source": [
    "a = 1\r\n",
    "print(id(a))\r\n",
    "b = a\r\n",
    "print(id(b))\r\n",
    "a = a + 1\r\n",
    "print(id(a))\r\n",
    "c = 1\r\n",
    "print(id(c))"
   ]
  },
  {
   "cell_type": "markdown",
   "metadata": {},
   "source": [
    "## == vs is"
   ]
  },
  {
   "cell_type": "code",
   "execution_count": 18,
   "metadata": {},
   "outputs": [
    {
     "name": "stdout",
     "output_type": "stream",
     "text": [
      "140719112352000\n",
      "140719112352000\n",
      "True\n",
      "True\n",
      "a is not None\n"
     ]
    }
   ],
   "source": [
    "a = 1\r\n",
    "b = a\r\n",
    "print(id(a))\r\n",
    "print(id(b))\r\n",
    "print(a == b)\r\n",
    "print(a is b)\r\n",
    "\r\n",
    "if a is None:\r\n",
    "    print(\"a is None\")\r\n",
    "if a is not None:\r\n",
    "    print(\"a is not None\")"
   ]
  },
  {
   "cell_type": "markdown",
   "metadata": {},
   "source": [
    "# Python浅拷贝和深度拷贝\r\n",
    "## 不可变数据类型浅拷贝"
   ]
  },
  {
   "cell_type": "code",
   "execution_count": 19,
   "metadata": {},
   "outputs": [
    {
     "name": "stdout",
     "output_type": "stream",
     "text": [
      "140719112352000\n",
      "140719112352000\n",
      "True\n",
      "True\n",
      "1877121502728\n",
      "1877121502728\n",
      "True\n",
      "True\n"
     ]
    }
   ],
   "source": [
    "import copy\r\n",
    "a = 1\r\n",
    "b = copy.copy(a)\r\n",
    "print(id(a))\r\n",
    "print(id(b))\r\n",
    "print(a == b)\r\n",
    "print(a is b)\r\n",
    "\r\n",
    "t1 = (1, 2, 3)\r\n",
    "t2 = tuple(t1)\r\n",
    "print(id(t1))\r\n",
    "print(id(t2))\r\n",
    "print(t1 == t2)\r\n",
    "print(t1 is t2)"
   ]
  },
  {
   "cell_type": "markdown",
   "metadata": {},
   "source": [
    "## 可变数据类型浅拷贝"
   ]
  },
  {
   "cell_type": "code",
   "execution_count": 20,
   "metadata": {},
   "outputs": [
    {
     "name": "stdout",
     "output_type": "stream",
     "text": [
      "A: bye!!!\n",
      "B: bye!!!\n",
      "A: bye!!!\n",
      "B: bye!!!\n",
      "1877087371400\n",
      "1877087371784\n",
      "True\n",
      "False\n",
      "1877087373192\n",
      "1877122629384\n",
      "############\n",
      "1877087371400\n",
      "False\n",
      "False\n",
      "###############\n",
      "1877122628680\n",
      "1877122614728\n",
      "1877122401416\n",
      "1877122401416\n",
      "[[1, 2], (4, 5), 6]\n",
      "[[1, 2], (4, 5)]\n",
      "[[1, 2, 3], (4, 5), 6]\n",
      "[[1, 2, 3], (4, 5)]\n"
     ]
    }
   ],
   "source": [
    "l1 = [1, 2, 3]\r\n",
    "l2 = list(l1)\r\n",
    "l3 = copy.copy(l1)\r\n",
    "l4 = l1[:]\r\n",
    "print(id(l1))\r\n",
    "print(id(l2))\r\n",
    "print(l1 == l2)\r\n",
    "print(l1 is l2)\r\n",
    "print(id(l3))\r\n",
    "print(id(l4))\r\n",
    "\r\n",
    "print(\"############\")\r\n",
    "l1.append(4)\r\n",
    "print(id(l1))\r\n",
    "print(l1 == l2)\r\n",
    "print(l1 is l2)\r\n",
    "\r\n",
    "print(\"###############\")\r\n",
    "l1 = [[1, 2], (4, 5)]\r\n",
    "l2 = copy.copy(l1)\r\n",
    "print(id(l1))\r\n",
    "print(id(l2))\r\n",
    "print(id(l1[0]))\r\n",
    "print(id(l2[0]))\r\n",
    "l1.append(6)\r\n",
    "print(l1)\r\n",
    "print(l2)\r\n",
    "l1[0].append(3)\r\n",
    "print(l1)\r\n",
    "print(l2)"
   ]
  },
  {
   "cell_type": "markdown",
   "metadata": {},
   "source": [
    "## 深度拷贝"
   ]
  },
  {
   "cell_type": "code",
   "execution_count": 21,
   "metadata": {},
   "outputs": [
    {
     "name": "stdout",
     "output_type": "stream",
     "text": [
      "1877121751048\n",
      "1877067965448\n",
      "[[1, 2], (4, 5), 6]\n",
      "[[1, 2], (4, 5)]\n",
      "[[1, 2, 3], (4, 5), 6]\n",
      "[[1, 2], (4, 5)]\n"
     ]
    }
   ],
   "source": [
    "\r\n",
    "l1 = [[1, 2], (4, 5)]\r\n",
    "l2 = copy.deepcopy(l1)\r\n",
    "print(id(l1))\r\n",
    "print(id(l2))\r\n",
    "l1.append(6)\r\n",
    "print(l1)\r\n",
    "print(l2)\r\n",
    "l1[0].append(3)\r\n",
    "print(l1)\r\n",
    "print(l2)"
   ]
  },
  {
   "cell_type": "markdown",
   "metadata": {},
   "source": [
    "# python垃圾回收\r\n",
    "## 引用计数"
   ]
  },
  {
   "cell_type": "code",
   "execution_count": 22,
   "metadata": {},
   "outputs": [
    {
     "name": "stdout",
     "output_type": "stream",
     "text": [
      "2\n",
      "3\n"
     ]
    }
   ],
   "source": [
    "from sys import getrefcount\r\n",
    "\r\n",
    "l1 = [1, 2, 3]\r\n",
    "print(getrefcount(l1)) # 查看引用计数\r\n",
    "l2 = l1\r\n",
    "print(getrefcount(l2))"
   ]
  },
  {
   "cell_type": "markdown",
   "metadata": {},
   "source": [
    "## del"
   ]
  },
  {
   "cell_type": "code",
   "execution_count": 23,
   "metadata": {},
   "outputs": [
    {
     "name": "stdout",
     "output_type": "stream",
     "text": [
      "A: hello!!!\n",
      "4\n",
      "3\n",
      "2\n",
      "A: bye!!!\n",
      "666\n"
     ]
    }
   ],
   "source": [
    "class TestObjectA(dict):\r\n",
    "    def __init__(self):\r\n",
    "        print(\"A: hello!!!\")\r\n",
    "    def __del__(self):\r\n",
    "        print(\"A: bye!!!\")\r\n",
    "\r\n",
    "class TestObjectB(dict):\r\n",
    "    def __init__(self):\r\n",
    "        print(\"B: hello!!!\")\r\n",
    "    def __del__(self):\r\n",
    "        print(\"B: bye!!!\")\r\n",
    "\r\n",
    "a = TestObjectA()\r\n",
    "b = a\r\n",
    "c = a\r\n",
    "print(getrefcount(c))\r\n",
    "del a\r\n",
    "print(getrefcount(c))\r\n",
    "del b\r\n",
    "print(getrefcount(c))\r\n",
    "del c\r\n",
    "print(\"666\")"
   ]
  },
  {
   "cell_type": "markdown",
   "metadata": {},
   "source": [
    "## 标记清除\r\n",
    "循环引用"
   ]
  },
  {
   "cell_type": "code",
   "execution_count": 24,
   "metadata": {},
   "outputs": [
    {
     "name": "stdout",
     "output_type": "stream",
     "text": [
      "A: hello!!!\n",
      "B: hello!!!\n",
      "666\n"
     ]
    }
   ],
   "source": [
    "a = TestObjectA()\r\n",
    "b = TestObjectB()\r\n",
    "a['1'] = b\r\n",
    "b['1'] = a\r\n",
    "del a\r\n",
    "del b\r\n",
    "\r\n",
    "print(\"666\")"
   ]
  },
  {
   "cell_type": "markdown",
   "metadata": {},
   "source": [
    "## 分代回收"
   ]
  },
  {
   "cell_type": "code",
   "execution_count": 25,
   "metadata": {},
   "outputs": [
    {
     "name": "stdout",
     "output_type": "stream",
     "text": [
      "(700, 10, 10)\n",
      "(137, 11, 4)\n",
      "(141, 11, 4)\n",
      "(145, 11, 4)\n"
     ]
    }
   ],
   "source": [
    "import gc\r\n",
    "\r\n",
    "print(gc.get_threshold())\r\n",
    "\r\n",
    "\r\n",
    "a = TestObjectA\r\n",
    "b = a\r\n",
    "print(gc.get_count())\r\n",
    "del a\r\n",
    "print(gc.get_count())\r\n",
    "del b\r\n",
    "print(gc.get_count())"
   ]
  }
 ],
 "metadata": {
  "interpreter": {
   "hash": "7adaecee6ea4919e47d0b9e500cd90be56f0afad878c7d0a6bf7e7a75a66e0c0"
  },
  "kernelspec": {
   "display_name": "Python 3.7.4 64-bit ('Python37')",
   "name": "python3"
  },
  "language_info": {
   "codemirror_mode": {
    "name": "ipython",
    "version": 3
   },
   "file_extension": ".py",
   "mimetype": "text/x-python",
   "name": "python",
   "nbconvert_exporter": "python",
   "pygments_lexer": "ipython3",
   "version": "3.7.4"
  },
  "orig_nbformat": 4
 },
 "nbformat": 4,
 "nbformat_minor": 2
}